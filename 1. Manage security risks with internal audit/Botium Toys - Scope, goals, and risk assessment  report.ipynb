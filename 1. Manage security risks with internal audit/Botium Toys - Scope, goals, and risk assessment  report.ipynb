{
 "cells": [
  {
   "cell_type": "markdown",
   "id": "c54dd3e6",
   "metadata": {},
   "source": [
    "# Botium Toys: Scope, goals, and risk assessment report\n",
    "---"
   ]
  },
  {
   "cell_type": "markdown",
   "id": "dca49f5e",
   "metadata": {},
   "source": [
    "## Scope and goals of the audit\n",
    "\n",
    "- Scope: The scope of this audit is defined as the entire security program at Botium Toys. This includes their assets like employee equipment and devices, their internal network, and their systems. You will need to review the assets Botium Toys has and the controlsand compliance practices they have in place.\n",
    "\n",
    "- Goals: Assess existing assets and complete the controls and compliance checklist to determine which controls and compliance best practices that need to be implemented to improve Botium Toys’ security posture.\n",
    "\n",
    "\n",
    "## Current assets\n",
    "\n",
    "Assets managed by the IT Department include:\n",
    "- On-premises equipment for in-office business needs\n",
    "- Employee equipment: end-user devices (desktops/laptops, smartphones), remote workstations, headsets, cables, keyboards, mice, docking stations, surveillance cameras, etc.\n",
    "- Storefront products available for retail sale on site and online; stored in the company’s adjoining warehouse\n",
    "- Management of systems, software, and services: accounting, telecommunication, database, security, ecommerce, and inventory management\n",
    "- Internet access\n",
    "- Internal network\n",
    "- Data retention and storage\n",
    "- Legacy system maintenance: end-of-life systems that require human monitoring\n",
    "\n",
    "\n",
    "## Risk assessment\n",
    "\n",
    "### Risk description\n",
    "- Currently, there is inadequate management of assets. Additionally, Botium Toys does not have all of the proper controls in place and may not be fully compliant with U.S. and international regulations and standards.\n",
    "\n",
    "### Control best practices\n",
    "- The first of the five functions of the NIST CSF is Identify. Botium Toys will need to dedicate resources to identify assets so they can appropriately manage them. Additionally, they will need to classify existing assets and determine the impact of the loss of existing assets, including systems, on business continuity.\n",
    "\n",
    "### Risk score\n",
    "- On a scale of 1 to 10, the risk score is 8, which is fairly high. This is due to a lack of controls and adherence to compliance best practices.\n",
    "\n",
    "### Additional comments\n",
    "- The potential impact from the loss of an asset is rated as medium, because the IT department does not know which assets would be at risk. The risk to assets or fines from governing bodies is high because Botium Toys does not have all of the necessary controls in place and is not fully adhering to best practices related to compliance regulations that keep critical data private/secure. Review the following bullet points for specific details:\n",
    "\n",
    "    1. Currently, all Botium Toys employees have access to internally stored data and may be able to access cardholder data and customers’ PII/SPII.\n",
    "\n",
    "    2. Encryption is not currently used to ensure confidentiality of customers’ credit card information that is accepted, processed, transmitted, and stored locally in the company’s internal database.\n",
    "\n",
    "    3. Access controls pertaining to least privilege and separation of duties have not been implemented.\n",
    "\n",
    "    4. The IT department has ensured availability and integrated controls to ensure data integrity.\n",
    "\n",
    "    5. The IT department has a firewall that blocks traffic based on an appropriately defined set of security rules.\n",
    "\n",
    "    6. Antivirus software is installed and monitored regularly by the IT department.\n",
    "    \n",
    "    7. The IT department has not installed an intrusion detection system (IDS).\n",
    "    \n",
    "    8. There are no disaster recovery plans currently in place, and the company does not have backups of critical data.\n",
    "    \n",
    "    9. The IT department has established a plan to notify E.U. customers within 72 hours if there is a security breach. Additionally, privacy policies, procedures, and processes have been developed and are enforced among IT department members/other employees, to properly document and maintain data.\n",
    "    \n",
    "    10. Although a password policy exists, its requirements are nominal and not in line with current minimum password complexity requirements (e.g., at least eight characters, a combination of leers and at least one number; special characters).\n",
    "    \n",
    "    11. There is no centralized password management system that enforces the password policy’s minimum requirements, which sometimes affects productivity when employees/vendors submit a ticket to the IT department to recover or reset a password.\n",
    "    \n",
    "    12. While legacy systems are monitored and maintained, there is no regular schedule in place for these tasks and intervention methods are unclear.\n",
    "    \n",
    "    13. The store’s physical location, which includes Botium Toys’ main offices, store front, and warehouse of products, has sufficient locks, up-to-date closed-circuit television (CCTV) surveillance, as well as functioning fire detection and prevention systems."
   ]
  }
 ],
 "metadata": {
  "kernelspec": {
   "display_name": "Python 3 (ipykernel)",
   "language": "python",
   "name": "python3"
  },
  "language_info": {
   "codemirror_mode": {
    "name": "ipython",
    "version": 3
   },
   "file_extension": ".py",
   "mimetype": "text/x-python",
   "name": "python",
   "nbconvert_exporter": "python",
   "pygments_lexer": "ipython3",
   "version": "3.13.2"
  }
 },
 "nbformat": 4,
 "nbformat_minor": 5
}
