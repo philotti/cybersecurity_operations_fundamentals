{
 "cells": [
  {
   "cell_type": "markdown",
   "id": "f7eded2f",
   "metadata": {},
   "source": [
    "# Controls and compliance checklist exemplar\n",
    "---"
   ]
  },
  {
   "cell_type": "markdown",
   "id": "6b76942c",
   "metadata": {},
   "source": [
    "- Select “yes” or “no” to answer the question: Does Botium Toys currently have this control in place?\n",
    "\n",
    "## Controls assessment checklist\n",
    "\n",
    "|Yes | No | Control | Explaination|\n",
    "| :--- | :--- | :--- | :--- |\n",
    "| - | X | Least Privilege | Currently, all employees have access to customer data; privileges need to be limited to reduce the risk of a breach.|\n",
    "| - | X | Disaster recovery plans | There are no disaster recovery plans in place. These need to be implemented to ensure business continuity.|\n",
    "| - | X | Password policies | Employee password requirements are minimal, which could allow a threat actor to more easily access secure data/other assets via employee work equipment/the internal network.|\n",
    "| - | X | Separation of duties | Needs to be implemented to reduce the possibility of fraud/access to critical data, since the company CEO currently runs day-to-day operations and manages the payroll.|\n",
    "| X | - | Firewall | The existing firewall blocks traffic based on anappropriately defined set of security rules.|\n",
    "| - | X | Intrusion detection system(IDS) | The IT department needs an IDS in place to help identify possible intrusions by threat actors.|\n",
    "| - | X | Backups | The IT department needs to have backups of critical data, in the case of a breach, to ensure business continuity.|\n",
    "| X | - | Antivirus software | Antivirus software is installed and monitored regularly by the IT department.|\n",
    "| - | X | Manual monitoring, maintenance, and intervention for legacy systems | The list of assets notes the use of legacy systems. The risk assessment indicates that these systems are monitored and maintained, but there is not a regular schedule in place for this task and procedures/ policies related to intervention are unclear, which could place these systems at risk of a breach.|\n",
    "| - | X | Encryption | Encryption is not currently used; implementing it would provide greater confidentiality of sensitive information.|\n",
    "| - | X | Password management system | There is no password management system currently in place; implementing this control would improve IT department/other employee productivity in the case of password issues.|\n",
    "| X | - | Locks (offices, storefront, warehouse) | The store’s physical location, which includes the company’s main offices, store front, and warehouse of products, has suficient locks.|\n",
    "| X | - | Closed-circuit television(CCTV) surveillance | CCTV is installed/functioning at the store’s physical location.|\n",
    "| X | - | Fire detection/prevention (fire alarm, sprinkler system, etc.) | Botium Toys’ physical location has a functioning fire detection and prevention system.|\n",
    "---\n",
    "\n"
   ]
  },
  {
   "cell_type": "markdown",
   "id": "eabb7828",
   "metadata": {},
   "source": [
    "## Compliance checklist\n",
    "- Select “yes” or “no” to answer the question: Does Botium Toys currently adhere to this compliance best practice?\n",
    "\n",
    "### Payment Card Industry Data Security Standard (PCI DSS)\n",
    "\n",
    "|Yes | No | Best Practice | Explaination|\n",
    "| :--- | :--- | :--- | :--- |\n",
    "| - | X | Only authorized users have access to customers’ credit card information. | Currently, all employees have access to the company’s internal data.|\n",
    "| - | X | Credit card information is accepted, processed, transmitted, and stored internally, in a secure environment. | Credit card information is not encrypted and all employees currently have access to internal data, including customers’ credit card information.|\n",
    "| - | X | Implement data encryption procedures to better secure credit card transaction touchpoints and data. | The company does not currently use encryption to better ensure the confidentiality of customers’financial information.|\n",
    "| - | X | Adopt secure password management policies. | Password policies are nominal and no password management system is currently in place.|\n",
    "\n",
    "### General Data Protection Regulation (GDPR)\n",
    "\n",
    "|Yes | No | Best Practice | Explaination|\n",
    "| :--- | :--- | :--- | :--- |\n",
    "| - | X | E.U. customers’ data is kept private/secured. | The company does not currently use encryption to better ensure the confidentiality of customers’nancial information.|\n",
    "| X | - | There is a plan in place to notify E.U. customers within 72 hours if their data is compromised/there is a breach. | There is a plan to notify E.U. customers within 72 hours of a data breach.|\n",
    "| - | X | Ensure data is properly classified and inventoried. | Current assets have been inventoried/listed, but not classified.|\n",
    "| X | - | Enforce privacy policies, procedures, and processes to properly document and maintain data. | Privacy policies, procedures, and processes have been developed and enforced among IT team members and other employees, as needed.|\n",
    "\n",
    "### System and Organizations Controls (SOC type 1, SOC type 2)\n",
    "\n",
    "|Yes | No | Best Practice | Explaination|\n",
    "| :--- | :--- | :--- | :--- |\n",
    "| - | X | User access policies are established. | Controls of Least Privilege and separation of duties are not currently in place; all employees have access to internally stored data.|\n",
    "| - | X | Sensitive data (PII/SPII) is confidential/private. | Encryption is not currently used to better ensure the confidentiality of PII/SPII.|\n",
    "| X | - | Data integrity ensures the data is consistent, complete, accurate, and has been validated. | Data integrity is in place.|\n",
    "| - | X | Data is available to individuals authorized to access it. | While data is available to all employees, authorization needs to be limited to only the individuals who need access to it to do their jobs.|\n",
    "\n",
    "---"
   ]
  },
  {
   "cell_type": "markdown",
   "id": "aa259154",
   "metadata": {},
   "source": [
    "- **Recommendations (optional)** : In this section, provide recommendations, related to controls and/or compliance needs, that your IT manager could communicate to stakeholders to reduce risks to assets and improve Botium Toys’ security posture. \n",
    "\n",
    "- Multiple controls need to be implemented to improve Botium Toys’ security posture and better ensure the confidentiality of sensitive information, including: Least Privilege, disaster recovery plans, password policies, separation of duties, an IDS, ongoing legacy system management, encryption, and a password management system.\n",
    "\n",
    "- To address gaps in compliance, Botium Toys needs to implement controls such as Least Privilege, separation of duties, and encryption. The company also needs to properly classify assets, to identify additional controls that may need to be implemented to improve their security posture and better protect sensitive information."
   ]
  }
 ],
 "metadata": {
  "kernelspec": {
   "display_name": "Python 3 (ipykernel)",
   "language": "python",
   "name": "python3"
  },
  "language_info": {
   "codemirror_mode": {
    "name": "ipython",
    "version": 3
   },
   "file_extension": ".py",
   "mimetype": "text/x-python",
   "name": "python",
   "nbconvert_exporter": "python",
   "pygments_lexer": "ipython3",
   "version": "3.13.2"
  }
 },
 "nbformat": 4,
 "nbformat_minor": 5
}
