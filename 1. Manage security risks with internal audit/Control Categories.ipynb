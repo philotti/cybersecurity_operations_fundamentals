{
 "cells": [
  {
   "cell_type": "markdown",
   "id": "9b7046fd",
   "metadata": {},
   "source": [
    "# Control Categories\n",
    "---"
   ]
  },
  {
   "cell_type": "markdown",
   "id": "148a3ad9",
   "metadata": {},
   "source": [
    "## Control categories\n",
    "\n",
    "Controls within cybersecurity are grouped into three main categories:\n",
    "\n",
    "- Administrative/Managerial controls\n",
    "- Technical controls\n",
    "- Physical/Operational controls\n",
    "\n",
    "**Administrative/Managerial controls** address the human component of cybersecurity.\n",
    "These controls include policies and procedures that define how an organization manages data and clearly defines employee responsibilities, including their role in protecting the organization. While administrative controls are typically policy based, the enforcement of those policies may require the use of technical or physical controls.\n",
    "\n",
    "**Technical controls** consist of solutions such as firewalls, intrusion detection systems(IDS), intrusion prevention systems (IPS), antivirus (AV) products, encryption, etc. Technical controls can be used in a number of ways to meet organizational goals and objectives.\n",
    "\n",
    "**Physical/Operational controls** include door locks, cabinet locks, surveillance cameras, badge readers, etc. They are used to limit physical access to physical assets by unauthorized personnel.\n",
    "\n",
    "## Control types\n",
    "\n",
    "Control types include, but are not limited to:\n",
    "\n",
    "    1. Preventative\n",
    "    2. Corrective\n",
    "    3. Detective\n",
    "    4. Deterrent\n",
    "    \n",
    "These controls work together to provide defense in depth and protect assets. **Preventative controls** are designed to prevent an incident from occurring in the first place. **Corrective controls** are used to restore an asset after an incident. **Detective controls** are implemented to determine whether an incident has occurred or is in progress. **Deterrent controls** are designed to discourage attacks.\n",
    "\n",
    "Review the following charts for specific details about each type of control and its purpose.\n",
    "\n",
    "### Administrative controls \n",
    "|Control Name | Control Type | Control Purpose|\n",
    "| :--- | :--- | :--- |\n",
    "| Least Privilege | Preventative | Reduce risk and overall impact of malicious insider or compromised accounts | \n",
    "| Disaster recovery plans | Corrective | Provide business continuity |\n",
    "| Password policies | Preventative | Reduce likelihood of account compromise through brute force or dictionary attack techniques |\n",
    "| Access control policies | Preventative | Bolster condentiality and integrity by defining which groups can access  or modify data |\n",
    "| Account management policies | Preventative | Managing account lifecycle, reducing attack surface, and limiting overall impact from disgruntled former employees and default account usage |\n",
    "| Separation of duties | Preventative| Reduce risk and overall impact of malicious insider or compromised accounts |\n",
    "\n",
    "\n",
    "### Technical controls \n",
    "|Control Name | Control Type | Control Purpose|\n",
    "| :--- | :--- | :--- |\n",
    "| Firewall | Preventative | To filter unwanted or malicious trafic from entering the network |\n",
    "| Intrusion Detection System (IDS) / Intrusion Prevention System(IPS) | Detective | To detect and prevent anomalous trafic that matches a signature or rule |\n",
    "| Encryption | Deterrent | Provide confidentiality to sensitive information |\n",
    "| Backups | Corrective | Restore/recover from an event |\n",
    "| Password management system | Corrective | Reduce password fatigue |\n",
    "| Antivirus (AV) software | Corrective | Scans to detect and quarantine known threats |\n",
    "| Manual monitoring, maintenance, and intervention | Preventative / Corrective | Necessary to identify and manage threats, risks, or vulnerabilities to out-of-date systems|\n",
    "\n",
    "\n",
    "### Physical controls\n",
    "|Control Name | Control Type | Control Purpose|\n",
    "| :--- | :--- | :--- |\n",
    "| Time-controlled safe | Deterrent | Reduce attack surface and overall impact from physical threats |\n",
    "| Adequate lighting | Deterrent | Deter threats by limiting “hiding” places |\n",
    "| Closed-circuit television (CCTV) surveillance | Preventative / Detective | Closed circuit television is both a preventative and detective control because it’s presence can reduce risk of certain types of events from occurring, and can be used after an event to inform on event conditions |\n",
    "| Locking cabinets (for network gear) | Preventative | Bolster integrity by preventing unauthorized personnel and other individuals from physically accessing or modifying network infrastructure gear |\n",
    "| Signage indicating alarm service provider | Deterrent | Deter certain types of threats by making the likelihood of a successful attack seem low |\n",
    "| Locks | Preventative | Bolster integrity by deterring and preventing unauthorized personnel, individuals from physically accessing assets |\n",
    "| Fire detection and prevention (fire alarm, sprinkler system, etc.) | Detective / Preventative | Detect fire in physical location and prevent damage to physical assets such as inventory, servers, etc. |\n"
   ]
  }
 ],
 "metadata": {
  "kernelspec": {
   "display_name": "Python 3 (ipykernel)",
   "language": "python",
   "name": "python3"
  },
  "language_info": {
   "codemirror_mode": {
    "name": "ipython",
    "version": 3
   },
   "file_extension": ".py",
   "mimetype": "text/x-python",
   "name": "python",
   "nbconvert_exporter": "python",
   "pygments_lexer": "ipython3",
   "version": "3.13.2"
  }
 },
 "nbformat": 4,
 "nbformat_minor": 5
}
