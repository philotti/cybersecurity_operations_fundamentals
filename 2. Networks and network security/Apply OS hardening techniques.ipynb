{
 "cells": [
  {
   "cell_type": "markdown",
   "id": "befd5d69",
   "metadata": {},
   "source": [
    "# Apply OS hardening techniques\n",
    "---"
   ]
  },
  {
   "cell_type": "markdown",
   "id": "15a6a517",
   "metadata": {},
   "source": [
    "## Overview\n",
    "- In this activity, you will take on the role of a cybersecurity analyst working for a company that hosts the cooking website, yummyrecipesforme.com. Visitors to the website experience a security issue when loading the main webpage. Your job is to investigate, identify, document, and recommend a solution to the security problem. \n",
    "\n",
    "- When investigating the security event, you will review a tcpdump log. You will need to identify the network protocols used to establish the connection between the user and the website. Network protocols are the communication rules and standards networked devices use to transmit data. Unfortunately, malicious actors can also use network protocols to invade and attack private networks. Knowing how to identify the protocols commonly used in attacks will help you protect your organization’s network against these types of security events.\n",
    "\n",
    "- To complete the assignment, you will also need to document what occurred during the security incident. Then, you will recommend one security measure to implement to prevent similar security problems in the future.\n",
    "\n",
    "- Be sure to complete this activity before moving on. The next course item will provide you with a completed exemplar to compare to your own work. \n",
    "\n",
    "## Scenario\n",
    "- Review the scenario below. Then complete the step-by-step instructions.\n",
    "\n",
    "- You are a cybersecurity analyst for yummyrecipesforme.com, a website that sells recipes and cookbooks. A former employee has decided to lure users to a fake website with malware. \n",
    "\n",
    "- The former employee/ hacker executed a brute force attack to gain access to the web host. They repeatedly entered several known default passwords for the administrative account until they correctly guessed the right one. After they obtained the login credentials, they were able to access the admin panel and change the website’s source code. They embedded a javascript function in the source code that prompted visitors to download and run a file upon visiting the website. After embedding the malware, the hacker changed the password to the administrative account. When customers download the file, they are redirected to a fake version of the website that contains the malware. \n",
    "\n",
    "- Several hours after the attack, multiple customers emailed yummyrecipesforme’s helpdesk. They complained that the company’s website had prompted them to download a file to access free recipes. The customers claimed that, after running the file, the address of the website changed and their personal computers began running more slowly. \n",
    "\n",
    "- In response to this incident, the website owner tries to log in to the admin panel but is unable to, so they reach out to the website hosting provider. You and other cybersecurity analysts are tasked with investigating this security event.\n",
    "\n",
    "- To address the incident, you create a sandbox environment to observe the suspicious website behavior. You run the network protocol analyzer tcpdump, then type in the URL for the website, yummyrecipesforme.com. As soon as the website loads, you are prompted to download an executable file to update your browser. You accept the download and allow the file to run. You then observe that your browser redirects you to a different URL, greatrecipesforme.com, which contains the malware.  \n",
    "\n",
    "- The logs show the following process:\n",
    "    The browser initiates a DNS request: It requests the IP address of the yummyrecipesforme.com URL from the DNS server.\n",
    "\n",
    "    1. The browser initiates a DNS request: It requests the IP address of the yummyrecipesforme.com URL from the DNS server.\n",
    "\n",
    "    2. The DNS replies with the correct IP address. \n",
    "\n",
    "    3. The browser initiates an HTTP request: It requests the yummyrecipesforme.com webpage using the IP address sent by the DNS server.\n",
    "\n",
    "    4. The browser initiates the download of the malware.\n",
    "\n",
    "    5. The browser initiates a DNS request for greatrecipesforme.com.\n",
    "\n",
    "    6. The DNS server responds with the IP address for greatrecipesforme.com.\n",
    "\n",
    "    7. The browser initiates an HTTP request to the IP address for greatrecipesforme.com.\n",
    "    \n",
    "<br>\n",
    "\n",
    "- A senior analyst confirms that the website was compromised. The analyst checks the source code for the website. They notice that javascript code had been added to prompt website visitors to download an executable file. Analysis of the downloaded file found a script that redirects the visitors’ browsers from yummyrecipesforme.com to greatrecipesforme.com. \n",
    "\n",
    "- The cybersecurity team reports that the web server was impacted by a brute force attack. The disgruntled hacker was able to guess the password easily because the admin password was still set to the default password. Additionally, there were no controls in place to prevent a brute force attack. \n",
    "\n",
    "- Your job is to document the incident in detail, including identifying the network protocols used to establish the connection between the user and the website.  You should also recommend a security action to take to prevent brute force attacks in the future.\n",
    "\n",
    "## Security incident report\n",
    "### Section 1: Identify the network protocol involved in the incident \n",
    "- The protocol involved in this case is Hypertext Transfer Protocol (HTTP). When I ran cpdump and accessed the yummyrecipesforme.com website, it was confirmed that the HTTP protocol was used for the corresponding tcpdump log file. And it was observed that malicious files were sent to the user's computer using the HTTP protocol at the application layer.\n",
    "\n",
    "### Section 2: Document the incident\n",
    "- When several customers visited the website, they said they were prompted to download and run a file that included access to the new recipe. Since then, personal computers have continued to operate slowly. The website owner tried to log in to a web server but found that his account was unlocked. The cybersecurity analyst used the sandbox environment to open the website without affecting the company's network. The analyst then ran tcpdump to check the packet. The analyst was prompted to download a file that claimed to have access to free recipes, accepted the download, and then ran it. The fake site was then redirection. The cybersecurity analyst examined the tcpdump log and observed that the browser initially requested the IP address of the yummyrecipesforme.com website. Once the connection to the website was established via the HTTP protocol, the analyst recalled downloading and running the file. The log also showed a sudden change in network traffic as the browser requested the new IP address of the greatrecipesforme.com URL. The network traffic was then rerouted to the new IP address of the greatrecipesforme.com website. The expert then analyzed the website's source code and the downloaded files. The analyst found that an attacker had manipulated the website to add code that prompted the user to download a malicious file disguised as a browser update. After accessing the account, we determined that the attack was made because we wanted to change our password. The execution of the malicious file damaged the end user's computer.\n",
    "\n",
    "### Section 3: Recommend one remediation for brute force attacks \n",
    "- The means to defend against the above attacks is to prohibit the use of old passwords. The vulnerability of this attack was the ability of an attacker to log in using the default password, so it is important to ensure that old passwords, such as the default password, are not used to reset passwords."
   ]
  },
  {
   "cell_type": "markdown",
   "id": "0f75b8c4",
   "metadata": {},
   "source": [
    "## Reference\n",
    "- tcpdump traffic log.docx\n",
    "- How to read the tcpdump traffic log.docx\n",
    "\n",
    "---"
   ]
  }
 ],
 "metadata": {
  "kernelspec": {
   "display_name": "Python 3 (ipykernel)",
   "language": "python",
   "name": "python3"
  },
  "language_info": {
   "codemirror_mode": {
    "name": "ipython",
    "version": 3
   },
   "file_extension": ".py",
   "mimetype": "text/x-python",
   "name": "python",
   "nbconvert_exporter": "python",
   "pygments_lexer": "ipython3",
   "version": "3.13.2"
  }
 },
 "nbformat": 4,
 "nbformat_minor": 5
}
