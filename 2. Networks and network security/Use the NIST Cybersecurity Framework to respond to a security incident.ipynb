{
 "cells": [
  {
   "cell_type": "markdown",
   "id": "c405fa1d",
   "metadata": {},
   "source": [
    "# Use the NIST Cybersecurity Framework to respond to a security incident\n",
    "---"
   ]
  },
  {
   "cell_type": "markdown",
   "id": "21f1fd2e",
   "metadata": {},
   "source": [
    "## Overview\n",
    "- In this activity, you will create an incident report using the knowledge you’ve gained about networks throughout this course to analyze a network incident. You will analyze the situation using the National Institute of Standards and Technology's Cybersecurity Framework (NIST CSF). The CSF is a voluntary framework that consists of standards, guidelines, and best practices to manage cybersecurity risk. Creating a quality cybersecurity incident report and applying the CSF can demonstrate a proactive approach to security, improving communication and transparency with stakeholders, and improve security practices within your organization. You can also add the incident report you create to your cybersecurity portfolio when  you complete it.\n",
    "\n",
    "- The CSF is scalable and can be applied in a wide variety of contexts. As you continue to learn more and refine your understanding of key cybersecurity skills, you can use the templates provided in this activity in other situations. Knowing how to identify which security measures to apply in response to business needs will help you determine which are the best available options when it comes to network security.\n",
    "\n",
    "- Be sure to complete this activity before moving on. In the next course item, you will be able to self-assess your response. After that, there will be a completed exemplar to compare to your own work. It will also provide an opportunity for you to answer rubric questions that allow you to reflect on key elements of your professional statement.\n",
    "\n",
    "## Scenario\n",
    "- Review the scenario below. Then complete the step-by-step instructions.\n",
    "\n",
    "- You are a cybersecurity analyst working for a multimedia company that offers web design services, graphic design, and social media marketing solutions to small businesses. Your organization recently experienced a DDoS attack, which compromised the internal network for two hours until it was resolved.\n",
    "\n",
    "- During the attack, your organization’s network services suddenly stopped responding due to an incoming flood of ICMP packets. Normal internal network traffic could not access any network resources. The incident management team responded by blocking incoming ICMP packets, stopping all non-critical network services offline, and restoring critical network services. \n",
    "\n",
    "- The company’s cybersecurity team then investigated the security event. They found that a malicious actor had sent a flood of ICMP pings into the company’s network through an unconfigured firewall. This vulnerability allowed the malicious attacker to overwhelm the company’s network through a distributed denial of service (DDoS) attack. \n",
    "\n",
    "- To address this security event, the network security team implemented: \n",
    "\n",
    "    1. A new firewall rule to limit the rate of incoming ICMP packets\n",
    "\n",
    "    2. Source IP address verification on the firewall to check for spoofed IP addresses on incoming ICMP packets\n",
    "\n",
    "    3. Network monitoring software to detect abnormal traffic patterns\n",
    "\n",
    "    4. An IDS/IPS system to filter out some ICMP traffic based on suspicious characteristics\n",
    "<br>\n",
    "\n",
    "- As a cybersecurity analyst, you are tasked with using this security event to create a plan to improve your company’s network security, following the National Institute of Standards and Technology (NIST) Cybersecurity Framework (CSF). You will use the CSF to help you navigate through the different steps of analyzing this cybersecurity event and integrate your analysis into a general security strategy. We have broken the analysis into different parts in the template below. You can explore them here:\n",
    "\n",
    "    1. **Identify** security risks through regular audits of internal networks, systems, devices, and access privileges to identify potential gaps in security. \n",
    "\n",
    "    2. **Protect** internal assets through the implementation of policies, procedures, training and tools that help mitigate cybersecurity threats. \n",
    "\n",
    "    3. **Detect** potential security incidents and improve monitoring capabilities to increase the speed and efficiency of detections. \n",
    "\n",
    "    4. **Respond** to contain, neutralize, and analyze security incidents; implement improvements to the security process. \n",
    "\n",
    "## Incident report analysis\n",
    "### Summary\n",
    "- The company experienced a security event when all network services suddenly stopped responding. The cybersecurity team found the disruption was caused by a distributed denial of services (DDoS) attack through a flood of incoming ICMP packets. The team responded by blocking the attack and stopping all non-critical network services, so that critical network services could be restored.\n",
    "\n",
    "### Identify\n",
    "- A malicious actor or actors targeted the company with an ICMP flood attack. The entire internal network was affected. \n",
    "\n",
    "### Protect\n",
    "- The cybersecurity team implemented a new firewall rule to limit the rate of incoming ICMP packets and an IDS/IPS system to filter out some ICMP traffic based on suspicious characteristics.\n",
    "\n",
    "### Detect\n",
    "- The cybersecurity team configured source IP address verification on the firewall to check for spoofed IP addresses on incoming ICMP packets and implemented network monitoring software to detect abnormal traffic patterns. \n",
    "\n",
    "### Respond\n",
    "- For future security events, the cybersecurity team will isolate affected systems to prevent further disruption to the network. They will attempt to restore any critical systems and services that were disrupted by the event.\n",
    "\n",
    "### Recover\n",
    "- To recover from a DDoS attack by ICMP flooding, access to network services need to be restored to a normal functioning state. In the future, external ICMP flood attacks can be blocked at the firewall. Then, all non-critical network services should be stopped to reduce internal network traffic. Next, critical network services should be restored first."
   ]
  },
  {
   "cell_type": "markdown",
   "id": "1208591d",
   "metadata": {},
   "source": [
    "## Reference\n",
    "- Applying the NIST CSF.docx\n",
    "\n",
    "---"
   ]
  }
 ],
 "metadata": {
  "kernelspec": {
   "display_name": "Python 3 (ipykernel)",
   "language": "python",
   "name": "python3"
  },
  "language_info": {
   "codemirror_mode": {
    "name": "ipython",
    "version": 3
   },
   "file_extension": ".py",
   "mimetype": "text/x-python",
   "name": "python",
   "nbconvert_exporter": "python",
   "pygments_lexer": "ipython3",
   "version": "3.13.2"
  }
 },
 "nbformat": 4,
 "nbformat_minor": 5
}
