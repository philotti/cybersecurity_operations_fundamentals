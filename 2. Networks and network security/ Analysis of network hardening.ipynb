{
 "cells": [
  {
   "cell_type": "markdown",
   "id": "0428b708",
   "metadata": {},
   "source": [
    "# Analysis of network hardening\n",
    "---"
   ]
  },
  {
   "cell_type": "markdown",
   "id": "e8792ba5",
   "metadata": {},
   "source": [
    "## Overview\n",
    "- In this activity, you will be presented with a scenario about a social media organization that recently experienced a major data breach caused by undetected vulnerabilities. To address the breach, you will identify some common network hardening tools that can be implemented to protect the organization’s overall security. Then, you will select a specific vulnerability that the company has and propose different network hardening methods. Finally, you will explain how the methods and tools you chose will be effective for managing the vulnerability and how they will prevent potential breaches in the future. \n",
    "\n",
    "- In the course, you learned network hardening and network security-related hardening practices, such as port filtering, network access privileges, and encryption over networks. Network hardening practices help organizations monitor potential threats and attacks on their network and prevent some attacks from occurring. Some hardening practices are implemented every day, while others are executed every once in a while, such as every other week or once a month. Understanding how to use network hardening tools and methods will help you better monitor network activity and protect your organization’s network against various attacks.\n",
    "\n",
    "- Be sure to complete this activity before moving on. The next course item will provide you with a completed exemplar to compare to your own work. \n",
    "\n",
    "## Scenario\n",
    "- Review the following scenario. Then complete the step-by-step instructions.\n",
    "\n",
    "- You are a security analyst working for a social media organization. The organization recently experienced a major data breach, which compromised the safety of their customers’ personal information, such as names and addresses. Your organization wants to implement strong network hardening practices that can be performed consistently to prevent attacks and breaches in the future. \n",
    "\n",
    "- After inspecting the organization’s network, you discover four major vulnerabilities. The four vulnerabilities are as follows:\n",
    "\n",
    "    1. The organization’s employees' share passwords.\n",
    "\n",
    "    2. The admin password for the database is set to the default.\n",
    "\n",
    "    3. The firewalls do not have rules in place to filter traffic coming in and out of the network.\n",
    "\n",
    "    4. Multifactor authentication (MFA) is not used. \n",
    "\n",
    "<br>\n",
    "\n",
    "- If no action is taken to address these vulnerabilities, the organization is at risk of experiencing another data breach or other attacks in the future. \n",
    "\n",
    "- In this activity, you will write a security risk assessment to analyze the incident and explain what methods can be used to further secure the network.\n",
    "\n",
    "## Security risk assessment report\n",
    "- Select up to three hardening tools and methods to implement : \n",
    "- Explain your recommendations :"
   ]
  },
  {
   "cell_type": "markdown",
   "id": "2db7659a",
   "metadata": {},
   "source": [
    "## Reference\n",
    "- Network hardening tools.xlsx\n",
    "\n",
    "---"
   ]
  }
 ],
 "metadata": {
  "kernelspec": {
   "display_name": "Python 3 (ipykernel)",
   "language": "python",
   "name": "python3"
  },
  "language_info": {
   "codemirror_mode": {
    "name": "ipython",
    "version": 3
   },
   "file_extension": ".py",
   "mimetype": "text/x-python",
   "name": "python",
   "nbconvert_exporter": "python",
   "pygments_lexer": "ipython3",
   "version": "3.13.2"
  }
 },
 "nbformat": 4,
 "nbformat_minor": 5
}
