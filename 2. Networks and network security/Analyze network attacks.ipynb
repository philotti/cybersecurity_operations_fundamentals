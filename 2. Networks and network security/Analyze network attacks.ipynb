{
 "cells": [
  {
   "cell_type": "markdown",
   "id": "e97d2983",
   "metadata": {},
   "source": [
    "# Analyze network attacks\n",
    "---"
   ]
  },
  {
   "cell_type": "markdown",
   "id": "6b8e2d4a",
   "metadata": {},
   "source": [
    "## Overview\n",
    "- In this activity, you will consider a scenario involving a customer of the company that you work for who experiences a security issue when accessing the company’s website. You will  identify the likely cause of the service interruption. Then, you will explain how the attack occurred and the negative impact it had on the website. \n",
    "- In this course, you have learned about several common network attacks. You have learned their names, how they are carried out, and the characteristics of each attack from the perspective of the target. Understanding how attacks impact a network will help you troubleshoot issues on your organization’s network. It will also help you take steps to mitigate damage and protect a network from future attacks.\n",
    "- Be sure to complete this activity before moving on. The next course item will provide you with a completed exemplar to compare to your own work. \n",
    "\n",
    "## Scenario\n",
    "- Review the following scenario. Then complete the step-by-step instructions.\n",
    "- You work as a security analyst for a travel agency that advertises sales and promotions on the company’s website. The employees of the company regularly access the company’s sales webpage to search for vacation packages their customers might like. \n",
    "- One afternoon, you receive an automated alert from your monitoring system indicating a problem with the web server. You attempt to visit the company’s website, but you receive a connection timeout error message in your browser.\n",
    "- You use a packet sniffer to capture data packets in transit to and from the web server. You notice a large number of TCP SYN requests coming from an unfamiliar IP address. The web server appears to be overwhelmed by the volume of incoming traffic and is losing its ability to respond to the abnormally large number of SYN requests. You suspect the server is under attack by a malicious actor. \n",
    "- You take the server offline temporarily so that the machine can recover and return to a normal operating status. You also configure the company’s firewall to block the IP address that was sending the abnormal number of SYN requests. You know that your IP blocking solution won’t last long, as an attacker can spoof other IP addresses to get around this block. You need to alert your manager about this problem quickly and discuss the next steps to stop this attacker and prevent this problem from happening again. You will need to be prepared to tell your boss about the type of attack you discovered and how it was affecting the web server and employees.\n",
    "\n",
    "## Cybersecurity Incident Report\n",
    "### Section 1: Identify the type of attack that may have caused this network interruption\n",
    "- We can see website connection timeout error messages. Logs show that SYN flooding, a type of DOS attack where SYN packet requests are overloaded, has occurred\n",
    "\n",
    "### Section 2: Explain how the attack is causing the website to malfunction\n",
    "- When the website visitors try to establish a connection with the web server, a three-way handshake occurs using the TCP protocol. A three-way handshake occurs when a website visitor connects to a web server using the TCP protocol. First, the SYN packet sends a connection to the destination. This accepts the response that the connection is made through the SYN-ACK packet. The final ACK packet then sends a source to acknowledge the connection permission to the destination it wants to send. SYN flooding attacks cause malicious attackers to send a lot of packets, overwhelming the available resources of the server. This causes the server to lose its resources. As shown in the log, we can see that the web server is overloaded and not working. As a result, we are unable to receive connection requests from new visitors."
   ]
  },
  {
   "cell_type": "markdown",
   "id": "37b593aa",
   "metadata": {},
   "source": [
    "## Reference\n",
    "- Wireshark TCP_HTTP log.csv\n",
    "- How to read a Wireshark TCP_HTTP log.docx"
   ]
  }
 ],
 "metadata": {
  "kernelspec": {
   "display_name": "Python 3 (ipykernel)",
   "language": "python",
   "name": "python3"
  },
  "language_info": {
   "codemirror_mode": {
    "name": "ipython",
    "version": 3
   },
   "file_extension": ".py",
   "mimetype": "text/x-python",
   "name": "python",
   "nbconvert_exporter": "python",
   "pygments_lexer": "ipython3",
   "version": "3.13.2"
  }
 },
 "nbformat": 4,
 "nbformat_minor": 5
}
