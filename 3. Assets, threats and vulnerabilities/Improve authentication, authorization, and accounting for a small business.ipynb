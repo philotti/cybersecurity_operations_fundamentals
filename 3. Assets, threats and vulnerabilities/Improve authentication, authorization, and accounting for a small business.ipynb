{
 "cells": [
  {
   "cell_type": "markdown",
   "id": "91130538",
   "metadata": {},
   "source": [
    "# Improve authentication, authorization, and accounting for a small business\n",
    "---"
   ]
  },
  {
   "cell_type": "markdown",
   "id": "02482e9d",
   "metadata": {},
   "source": [
    "## Overview\n",
    "- In this activity, you will assess the access controls used by a business. You’ll analyze their current process, identify issues, and make recommendations to improve their security practices.\n",
    "\n",
    "- Previously, you learned that access controls are security controls that manage access, authorization, and accountability of information. Authentication controls are used to verify who someone is, whereas authorization controls are used to grant a user permissions and set limits on the things they’re allowed to do. When done well, access controls are the key to decreasing the likelihood of a security risk.\n",
    "\n",
    "- Be sure to complete this activity before moving on. The next course item will provide you with a completed exemplar to compare to your own work.\n",
    "\n",
    "## Scenario\n",
    "- Review the scenario below. Then complete the step-by-step instructions.\n",
    "\n",
    "- You’re the first cybersecurity professional hired by a growing business.\n",
    "\n",
    "- Recently, a deposit was made from the business to an unknown bank account. The finance manager says they didn’t make a mistake. Fortunately, they were able to stop the payment. The owner has asked you to investigate what happened to prevent any future incidents.\n",
    "\n",
    "- To do this, you’ll need to do some accounting on the incident to better understand what happened. First, you will review the access log of the incident. Next, you will take notes that can help you identify a possible threat actor. Then, you will spot issues with the access controls that were exploited by the user. Finally, you will recommend mitigations that can improve the business' access controls and reduce the likelihood that this incident reoccurs.\n",
    "\n",
    "## Access controls worksheet\n",
    "- Authorization/authentication\n",
    "    - Note(s): Make 1-2 notes of information that can help identify the threat\n",
    "        1. The event took place on 10/03/23.\n",
    "        2. The user is Legal/Administrator.\n",
    "        3. The IP address of the computer used to login is 152.207.255.255.\n",
    "    - Issue(s): Based on your notes, list 1-2 authorization issues\n",
    "        1. Robert Taylor Jr is an admin.\n",
    "        2. His contract ended in 2019, but his account accessed payroll systems in 2023.\n",
    "    - Recommendation(s): Make at least 1 recommendation that could prevent this kind of incident\n",
    "        1. User accounts should expire after 30 days.\n",
    "        2. Contractors should have limited access to business resources.\n",
    "        3. Enable MFA."
   ]
  },
  {
   "cell_type": "markdown",
   "id": "df3f22e7",
   "metadata": {},
   "source": [
    "## Reference\n",
    "- Accounting Exercise.xlsx\n",
    "---"
   ]
  }
 ],
 "metadata": {
  "kernelspec": {
   "display_name": "Python 3 (ipykernel)",
   "language": "python",
   "name": "python3"
  },
  "language_info": {
   "codemirror_mode": {
    "name": "ipython",
    "version": 3
   },
   "file_extension": ".py",
   "mimetype": "text/x-python",
   "name": "python",
   "nbconvert_exporter": "python",
   "pygments_lexer": "ipython3",
   "version": "3.13.2"
  }
 },
 "nbformat": 4,
 "nbformat_minor": 5
}
