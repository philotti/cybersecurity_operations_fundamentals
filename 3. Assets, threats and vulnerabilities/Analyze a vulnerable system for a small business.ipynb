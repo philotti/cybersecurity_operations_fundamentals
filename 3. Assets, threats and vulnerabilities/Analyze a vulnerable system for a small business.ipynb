{
 "cells": [
  {
   "cell_type": "markdown",
   "id": "bab0451d",
   "metadata": {},
   "source": [
    "# Vulnerability Assessment Report\n",
    "---"
   ]
  },
  {
   "cell_type": "markdown",
   "id": "f9376725",
   "metadata": {},
   "source": [
    "## Scenario\n",
    "- Review the following scenario. Then complete the step-by-step instructions.\n",
    "\n",
    "- You are a newly hired cybersecurity analyst for an e-commerce company. The company stores information on a remote database server, since many of the employees work remotely from locations all around the world. Employees of the company regularly query, or request, data from the server to find potential customers. The database has been open to the public since the company's launch three years ago. As a cybersecurity professional, you recognize that keeping the database server open to the public is a serious vulnerability.\n",
    "\n",
    "- You are tasked with completing a vulnerability assessment of the situation to communicate the potential risks to decision makers at the company. You must create a written report that explains how the vulnerable server is a risk to business operations and how it can be secured.\n",
    "\n",
    "## System Description\n",
    "- The server hardware consists of a powerful CPU processor and 128GB of memory. It runs on the latest version of Linux operating system and hosts a MySQL database management system. It is configured with a stable network connection using IPv4 addresses and interacts with other servers on the network. Security measures include SSL/TLS encrypted connections.\n",
    "\n",
    "## Scope\n",
    "- The scope of this vulnerability assessment relates to the current access controls of the system. The assessment will cover a period of three months, from June 20XX to August 20XX. NIST SP 800-30 Rev. 1 is used to guide the risk analysis of the information system.\n",
    "\n",
    "## Purpose\n",
    "- The database server is a centralized computer system that stores and manages large amounts of data. The server is used to store customer, campaign, and analytic data that can later be analyzed to track performance and personalize marketing efforts. It is critical to secure the system because of its regular use for marketing operations.\n",
    "\n",
    "## Risk Assessment\n",
    "|Threat source | Threat event | Likelihood | Severity | Risk|\n",
    "| :--- | :--- | :--- | :--- | :--- |  \n",
    "|Hacker | Obtain sensitive information via exfiltration | 3 | 3 | 9|\n",
    "|Employee | Disrupt mission-critical operations | 2 | 3 | 6|\n",
    "|Customer | Alter/Delete critical information | 1 | 3 | 3|\n",
    "\n",
    "## Approach\n",
    "- Risks that were measured considered the data storage and management procedures of the business. Potential threat sources and events were determined using the likelihood of a security incident given the open access permissions of the information system. The severity of potential incidents were weighed against the impact on day-to-day operational needs.\n",
    "\n",
    "## Remediation Strategy\n",
    "- Implementation of authentication, authorization, and auditing mechanisms to ensure that only authorized users access the database server. This includes using strong passwords, role-based access controls, and multi-factor authentication to limit user privileges. Encryption of data in motion using TLS instead of SSL. IP allow-listing to corporate offices to prevent random users from the internet from connecting to the database."
   ]
  },
  {
   "cell_type": "markdown",
   "id": "718eee20",
   "metadata": {},
   "source": [
    "## Reference\n",
    "- NIST SP 800-30 Rev. 1.docx\n",
    "---"
   ]
  }
 ],
 "metadata": {
  "kernelspec": {
   "display_name": "Python 3 (ipykernel)",
   "language": "python",
   "name": "python3"
  },
  "language_info": {
   "codemirror_mode": {
    "name": "ipython",
    "version": 3
   },
   "file_extension": ".py",
   "mimetype": "text/x-python",
   "name": "python",
   "nbconvert_exporter": "python",
   "pygments_lexer": "ipython3",
   "version": "3.13.2"
  }
 },
 "nbformat": 4,
 "nbformat_minor": 5
}
