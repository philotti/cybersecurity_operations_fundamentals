{
 "cells": [
  {
   "cell_type": "markdown",
   "id": "1efb33a8",
   "metadata": {},
   "source": [
    "# Determine appropriate data handling\n",
    "---"
   ]
  },
  {
   "cell_type": "markdown",
   "id": "e5942570",
   "metadata": {},
   "source": [
    "## Overview\n",
    "- In this activity, you will review the results of a data risk assessment. You will determine whether effective data handling processes are being implemented to protect information privacy.\n",
    "\n",
    "- Data is among the most valuable assets in the world today. Everything from intellectual property to guest WiFi networks should be protected with a combination of technical, operational, and managerial controls. Implementing **the principle of least privilege** is essential to protect information privacy.\n",
    "\n",
    "- Be sure to complete this activity before moving on. The next course item will provide you with a completed exemplar to compare to your own work.\n",
    "\n",
    "## Scenario\n",
    "- Review the following scenario. Then complete the step-by-step instructions.\n",
    "\n",
    "- You work for an educational technology company that developed an application to help teachers automatically grade assignments. The application handles a wide range of data that it collects from academic institutions, instructors, parents, and students.\n",
    "\n",
    "- Your team was alerted to a data leak of internal business plans on social media. An investigation by the team discovered that an employee accidentally shared those confidential documents with an external business partner. An audit into the leak is underway to determine how similar incidents can be avoided.\n",
    "\n",
    "- A supervisor provided you with information regarding the leak. It appears that the principle of least privilege was not observed by employees at the company during a sales meeting. You have been asked to analyze the situation and find ways to prevent it from happening again.\n",
    "\n",
    "- First, you'll need to evaluate details about the incident. Then, you'll review the controls in place to prevent data leaks. Next, you'll identify ways to improve information privacy at the company. Finally, you'll justify why you think your recommendations will make data handling at the company more secure.\n",
    "\n",
    "## Data leak worksheet\n",
    "- **Incident summary**: A sales manager shared access to a folder of internal-only documents with their team during a meeting. The folder contained files associated with a new product that has not been publicly announced. It also included customer analytics and promotional materials. After the meeting, the manager did not revoke access to the internal folder, but warned the team to wait for approval before sharing the promotional materials with others.\n",
    "\n",
    "- During a video call with a business partner, a member of the sales team forgot the warning from their manager. The sales representative intended to share a link to the promotional materials so that the business partner could circulate the materials to their customers. However, the sales representative accidentally shared a link to the internal folder instead. Later, the business partner posted the link on their company's social media page assuming that it was the promotional materials.\n",
    "\n",
    "|Control | Least privilege|\n",
    "| :--- | :--- |\n",
    "| Issue(s) | **Access to the internal folder was not limited to the sales team and the manager. The business partner should not have been given permission to share the promotional information to social media.** |\n",
    "| Review | **NIST SP 800-53: AC-6 addresses how an organization can protect their data privacy by implementing least privilege. It also suggests control enhancements to improve the effectiveness of least privilege**. |\n",
    "| Recommendation(s | **I think you have to regularly audit user privileges.** |\n",
    "| Justification | **Data leaks can be prevented if shared links to internal files are restricted to employees only. Also, requiring managers and security teams to regularly audit access to team files would help limit the exposure of sensitive information.** |\n",
    "\n",
    "## Security plan snapshot\n",
    "- The NIST Cybersecurity Framework (CSF) uses a hierarchical, tree-like structure to organize information. From left to right, it describes a broad security function, then becomes more specific as it branches out to a category, subcategory, and individual security controls.\n",
    "\n",
    "|Function | Category | Subcategory | Reference(s)|\n",
    "| :--- | :--- | :--- | :--- |\n",
    "| Protect | PR.DS: Data security | PR.DS-5: Protections against data leaks. | NIST SP 800-53: AC-6 |\n",
    "\n",
    "- In this example, the implemented controls that are used by the manufacturer to protect against data leaks are defined in NIST SP 800-53—a set of guidelines for securing the privacy of information systems.\n",
    "\n",
    "- **Note**: References are commonly hyperlinked to the guidelines or regulations they relate to. This makes it easy to learn more about how a particular control should be implemented. It's common to find multiple links to different sources in the references columns.\n",
    "\n",
    "## NIST SP 800-53: AC-6\n",
    "- NIST developed SP 800-53 to provide businesses with a customizable information privacy plan. It's a comprehensive resource that describes a wide range of control categories. Each control provides a few key pieces of information:\n",
    "\n",
    "    - Control: A definition of the security control.\n",
    "    - Discussion: A description of how the control should be implemented.\n",
    "    - Control enhancements: A list of suggestions to improve the effectiveness of the control.\n",
    "\n",
    "- **AC-6 Least Privilege**\n",
    "    - Control: Only the minimal access and authorization required to complete a task or function should be provided to users.\n",
    "    - Discussion: Processes, user accounts, and roles should be enforced as necessary to achieve least privilege. The intention is to prevent a user from operating at privilege levels higher than what is necessary to accomplish business objectives.\n",
    "    - Control enhancements:\n",
    "        - Restrict access to sensitive resources based on user role.\n",
    "        - Automatically revoke access to information after a period of time.\n",
    "        - Keep activity logs of provisioned user accounts.\n",
    "        - Regularly audit user privileges.\n",
    "\n",
    "- **Note**: In the category of access controls, SP 800-53 lists least privilege sixth, i.e. AC-6.\n",
    "\n",
    "---"
   ]
  }
 ],
 "metadata": {
  "kernelspec": {
   "display_name": "Python 3 (ipykernel)",
   "language": "python",
   "name": "python3"
  },
  "language_info": {
   "codemirror_mode": {
    "name": "ipython",
    "version": 3
   },
   "file_extension": ".py",
   "mimetype": "text/x-python",
   "name": "python",
   "nbconvert_exporter": "python",
   "pygments_lexer": "ipython3",
   "version": "3.13.2"
  }
 },
 "nbformat": 4,
 "nbformat_minor": 5
}
