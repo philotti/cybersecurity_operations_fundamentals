{
 "cells": [
  {
   "cell_type": "markdown",
   "id": "74026440",
   "metadata": {},
   "source": [
    "# Document an incident with an incident handler's journal\n",
    "---"
   ]
  },
  {
   "cell_type": "markdown",
   "id": "08fcfd5f",
   "metadata": {},
   "source": [
    "## Scenario\n",
    "- A small U.S. health care clinic specializing in delivering primary-care services experienced a security incident on a Tuesday morning, at approximately 9:00 a.m. Several employees reported that they were unable to use their computers to access files like medical records. Business operations shut down because employees were unable to access the files and software needed to do their job.\n",
    "\n",
    "- Additionally, employees also reported that a ransom note was displayed on their computers. The ransom note stated that all the company's files were encrypted by an organized group of unethical hackers who are known to target organizations in healthcare and transportation industries. In exchange for restoring access to the encrypted files, the ransom note demanded a large sum of money in exchange for the decryption key. \n",
    "\n",
    "- The attackers were able to gain access into the company's network by using targeted phishing emails, which were sent to several employees of the company. The phishing emails contained a malicious attachment that installed malware on the employee's computer once it was downloaded.\n",
    "\n",
    "- Once the attackers gained access, they deployed their ransomware, which encrypted critical files. The company was unable to access critical patient data, causing major disruptions in their business operations. The company was forced to shut down their computer systems and contact several organizations to report the incident and receive technical assistance.\n",
    "\n",
    "## Incident handler's journal\n",
    "- As you continue through this course, you may use this template to record your findings after completing an activity or to take notes on what you've learned about a specific tool or concept. You can also use this journal as a way to log the key takeaways about the different cybersecurity tools or concepts you encounter in this course.\n",
    "\n",
    "|Date | Description | Tool(s) used | The 5 W's | Additional notes|\n",
    "| :--- | :--- | :--- | :--- | :--- | \n",
    "|July 23, 2024 | Documenting a cybersecurity incident | None | **Who**: An organized group of unethical hackers, **What**: A ransomware security incident, **Where**: At a health care company, **When**: Tuesday 9:00 a.m., **Why**: The incident happened because unethical hackers were able to access the company's systems using a phishing attack. After gaining access, the attackers launched their ransomware on the company's systems, encrypting critical files. The attackers' motivation appears to be financial because the ransom note they left demanded a large sum of money in exchange for the decryption key. | Should the company pay the ransom to retrieve the decryption key?|\n",
    "\n",
    "---"
   ]
  }
 ],
 "metadata": {
  "kernelspec": {
   "display_name": "Python 3 (ipykernel)",
   "language": "python",
   "name": "python3"
  },
  "language_info": {
   "codemirror_mode": {
    "name": "ipython",
    "version": 3
   },
   "file_extension": ".py",
   "mimetype": "text/x-python",
   "name": "python",
   "nbconvert_exporter": "python",
   "pygments_lexer": "ipython3",
   "version": "3.13.2"
  }
 },
 "nbformat": 4,
 "nbformat_minor": 5
}
