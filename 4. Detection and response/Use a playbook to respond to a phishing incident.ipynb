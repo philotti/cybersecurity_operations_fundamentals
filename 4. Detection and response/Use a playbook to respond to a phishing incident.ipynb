{
 "cells": [
  {
   "cell_type": "markdown",
   "id": "47ba748d",
   "metadata": {},
   "source": [
    "# Use a playbook to respond to a phishing incident\n",
    "---"
   ]
  },
  {
   "cell_type": "markdown",
   "id": "255e4e3f",
   "metadata": {},
   "source": [
    "## Scenario\n",
    "- You are a level-one security operations center (SOC) analyst at a financial services company. Previously, you received a phishing alert about a suspicious file being downloaded on an employee's computer. After investigating the email attachment file's hash, the attachment has already been verified malicious. Now that you have this information, you must follow your organization's process to complete your investigation and resolve the alert.\n",
    "\n",
    "- Your organization's security policies and procedures describe how to respond to specific alerts, including what to do when you receive a phishing alert. \n",
    "\n",
    "- In the playbook, there is a flowchart and written instructions to help you complete your investigation and resolve the alert. At the end of your investigation, you will update the alert ticket with your findings about the incident.\n",
    "\n",
    "## Alert ticket\n",
    "\n",
    "1. Review the playbook and flowchart\n",
    "- Before you begin investigating the alert, take a moment to review the playbook and flowchart because you'll be using them throughout the investigation.\n",
    "\n",
    "2. Update the alert ticket status\n",
    "- In the Alert ticket template, begin the investigation by updating the Ticket status dropdown list to Investigating.\n",
    "\n",
    "3. Evaluate the alert \n",
    "- As a security analyst, you'll want to gain a complete understanding of why the alert was triggered. Create a new entry in your incident handler's journal to record the details of this security incident and gather your thoughts. You'll refer to these notes as you progress through the steps in the playbook. \n",
    "\n",
    "- Then, evaluate the contents of the Alert ticket, including the content in the Additional information section. Here are some examples of elements to examine when you are evaluating the alert ticket details:\n",
    "    - **Alert severity**: According to the playbook instructions, an alert severity of Medium or High is a good indication that a ticket might require escalation.\n",
    "    - **Sender details**: Analyzing the sender details of an email is important because it can reveal inconsistencies that can indicate a phishing attempt. Often, phishing emails try to impersonate trusted entities. For example, if there is a mismatch between the sender's email address and the sender's name, this is a good indication that the email might be a phishing email.\n",
    "    - **Message body**: It's important to analyze the message body (and subject line) of an email because phishing emails often contain grammatical errors, which can be an indication of a phishing attempt.\n",
    "    - **Attachments or links**: Phishing emails contain malicious links or attachments that are used to steal sensitive information or download malicious software or code on the recipient's device. Check to see whether a file has been attached to this email.\n",
    "\n",
    "4. Determine escalated and update report\n",
    "- After evaluating the alert details, use the Phishing Playbook's Step 3.0 and Step 3.1 to determine whether the email contains links or attachments and whether these links or attachments are malicious. Remember you've already determined that the email contains an attachment that has been verified as malicious through its file hash. \n",
    "\n",
    "\n",
    "|Ticket ID | Alert Message | Severity | Details | Ticket status|\n",
    "| :--- | :--- | :--- | :--- | :--- | \n",
    "|A-2703 | SERVER-MAIL Phishing attempt possible download of malware | Medium | The user may have opened a malicious email and opened attachments or clicked links. | Escalated|\n",
    "\n",
    "- **Ticket comments** : The alert detected that an employee downloaded and opened a malicious file from a phishing email. There is an inconsistency between the sender’s email address “76tguy6hh6tgftrt7tg.su’” the name used in the email body “Clyde West,” and the sender’s name, “Def Communications.” The email body and subject line contained grammatical errors. The email’s body also contained a password-protected attachment, “bfsvc.exe,” which was downloaded and opened on the affected machine. Having previously investigated the file hash, it is confirmed to be a known malicious file. Furthermore, the alert severity is reported as medium. With these findings, I chose to escalate this ticket to a level-two SOC analyst to take further action."
   ]
  },
  {
   "cell_type": "markdown",
   "id": "fd279918",
   "metadata": {},
   "source": [
    "## Reference \n",
    "- Phishing incident response playbook.docx\n",
    "\n",
    "---"
   ]
  }
 ],
 "metadata": {
  "kernelspec": {
   "display_name": "Python 3 (ipykernel)",
   "language": "python",
   "name": "python3"
  },
  "language_info": {
   "codemirror_mode": {
    "name": "ipython",
    "version": 3
   },
   "file_extension": ".py",
   "mimetype": "text/x-python",
   "name": "python",
   "nbconvert_exporter": "python",
   "pygments_lexer": "ipython3",
   "version": "3.13.2"
  }
 },
 "nbformat": 4,
 "nbformat_minor": 5
}
